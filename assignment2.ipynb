{
 "cells": [
  {
   "cell_type": "code",
   "execution_count": 1,
   "metadata": {},
   "outputs": [
    {
     "name": "stdout",
     "output_type": "stream",
     "text": [
      "Requirement already satisfied: gensim in c:\\users\\hp\\appdata\\local\\programs\\python\\python312\\lib\\site-packages (4.3.3)\n",
      "Requirement already satisfied: numpy<2.0,>=1.18.5 in c:\\users\\hp\\appdata\\local\\programs\\python\\python312\\lib\\site-packages (from gensim) (1.26.4)\n",
      "Requirement already satisfied: scipy<1.14.0,>=1.7.0 in c:\\users\\hp\\appdata\\local\\programs\\python\\python312\\lib\\site-packages (from gensim) (1.12.0)\n",
      "Requirement already satisfied: smart-open>=1.8.1 in c:\\users\\hp\\appdata\\local\\programs\\python\\python312\\lib\\site-packages (from gensim) (7.0.4)\n",
      "Requirement already satisfied: wrapt in c:\\users\\hp\\appdata\\local\\programs\\python\\python312\\lib\\site-packages (from smart-open>=1.8.1->gensim) (1.16.0)\n",
      "Note: you may need to restart the kernel to use updated packages.\n"
     ]
    }
   ],
   "source": [
    "pip install --upgrade gensim"
   ]
  },
  {
   "cell_type": "code",
   "execution_count": 2,
   "metadata": {},
   "outputs": [],
   "source": [
    "import gensim\n",
    "from gensim import corpora"
   ]
  },
  {
   "cell_type": "code",
   "execution_count": 3,
   "metadata": {},
   "outputs": [],
   "source": [
    "text = [\"\"\"Hello Everyone! This is Natural Language Processing Laboratory. NLP Stands for Natural Language Processing\"\"\"]"
   ]
  },
  {
   "cell_type": "code",
   "execution_count": 4,
   "metadata": {},
   "outputs": [],
   "source": [
    "tokens = [[item for item in line.split()] for line in text]\n",
    "dictionary = corpora.Dictionary(tokens)"
   ]
  },
  {
   "cell_type": "code",
   "execution_count": 5,
   "metadata": {},
   "outputs": [
    {
     "name": "stdout",
     "output_type": "stream",
     "text": [
      "The dictionary has: 11 tokens\n",
      "\n",
      "{'Everyone!': 0, 'Hello': 1, 'Laboratory.': 2, 'Language': 3, 'NLP': 4, 'Natural': 5, 'Processing': 6, 'Stands': 7, 'This': 8, 'for': 9, 'is': 10}\n"
     ]
    }
   ],
   "source": [
    "print(\"The dictionary has: \" +str(len(dictionary)) + \" tokens\\n\")\n",
    "print(dictionary.token2id)"
   ]
  },
  {
   "cell_type": "code",
   "execution_count": 6,
   "metadata": {},
   "outputs": [
    {
     "name": "stdout",
     "output_type": "stream",
     "text": [
      "Bag of Words :  [[(0, 1), (1, 1), (2, 1), (3, 2), (4, 1), (5, 2), (6, 2), (7, 1), (8, 1), (9, 1), (10, 1)]]\n"
     ]
    }
   ],
   "source": [
    "g_bow =[dictionary.doc2bow(token, allow_update = True) for token in tokens]\n",
    "print(\"Bag of Words : \", g_bow)"
   ]
  },
  {
   "cell_type": "code",
   "execution_count": 7,
   "metadata": {},
   "outputs": [
    {
     "name": "stdout",
     "output_type": "stream",
     "text": [
      "Dictionary is : \n",
      "[['Everyone!', 1], ['Hello', 1], ['Laboratory.', 1], ['Language', 2], ['NLP', 1], ['Natural', 2], ['Processing', 2], ['Stands', 1], ['This', 1], ['for', 1], ['is', 1]]\n"
     ]
    }
   ],
   "source": [
    "print(\"Dictionary is : \")\n",
    "for item in g_bow:\n",
    "    print([[dictionary[id], freq] for id, freq in item])"
   ]
  },
  {
   "cell_type": "code",
   "execution_count": 8,
   "metadata": {},
   "outputs": [],
   "source": [
    "from gensim import models"
   ]
  },
  {
   "cell_type": "code",
   "execution_count": 9,
   "metadata": {},
   "outputs": [],
   "source": [
    "g_tfidf = models.TfidfModel(g_bow, smartirs='ntc')"
   ]
  },
  {
   "cell_type": "code",
   "execution_count": 10,
   "metadata": {},
   "outputs": [],
   "source": [
    "import numpy as np"
   ]
  },
  {
   "cell_type": "code",
   "execution_count": 11,
   "metadata": {},
   "outputs": [
    {
     "name": "stdout",
     "output_type": "stream",
     "text": [
      "TF-IDF Vector:\n",
      "[['Everyone!', 0.22], ['Hello', 0.22], ['Laboratory.', 0.22], ['Language', 0.45], ['NLP', 0.22], ['Natural', 0.45], ['Processing', 0.45], ['Stands', 0.22], ['This', 0.22], ['for', 0.22], ['is', 0.22]]\n"
     ]
    }
   ],
   "source": [
    "\n",
    "print(\"TF-IDF Vector:\")\n",
    "for item in g_tfidf[g_bow]:\n",
    "    print([[dictionary[id], np.around(freq, decimals=2)] for id, freq in item])"
   ]
  },
  {
   "cell_type": "code",
   "execution_count": 15,
   "metadata": {},
   "outputs": [
    {
     "name": "stdout",
     "output_type": "stream",
     "text": [
      "[==================================================] 100.0% 31.6/31.6MB downloaded\n"
     ]
    }
   ],
   "source": [
    "from gensim.models.word2vec import Word2Vec\n",
    "from multiprocessing import cpu_count\n",
    "import gensim.downloader as api\n",
    "\n",
    "dataset = api.load(\"text8\")\n",
    "words = [d for d in dataset]\n",
    "\n",
    "data1 = words[:100]\n",
    "w2v_model = Word2Vec(data1, min_count = 0, workers=cpu_count())"
   ]
  },
  {
   "cell_type": "code",
   "execution_count": 19,
   "metadata": {},
   "outputs": [
    {
     "name": "stdout",
     "output_type": "stream",
     "text": [
      "[('art', 0.9261752963066101), ('arabic', 0.9255291223526001), ('spoken', 0.9159361720085144), ('word', 0.9078502058982849), ('modern', 0.9008200764656067), ('alphabet', 0.8998379111289978), ('usage', 0.8990846276283264), ('amoeba', 0.896780788898468), ('form', 0.894635796546936), ('system', 0.893408477306366)]\n"
     ]
    }
   ],
   "source": [
    "print(w2v_model.wv.most_similar('language'))"
   ]
  }
 ],
 "metadata": {
  "kernelspec": {
   "display_name": "Python 3",
   "language": "python",
   "name": "python3"
  },
  "language_info": {
   "codemirror_mode": {
    "name": "ipython",
    "version": 3
   },
   "file_extension": ".py",
   "mimetype": "text/x-python",
   "name": "python",
   "nbconvert_exporter": "python",
   "pygments_lexer": "ipython3",
   "version": "3.12.1"
  }
 },
 "nbformat": 4,
 "nbformat_minor": 2
}
